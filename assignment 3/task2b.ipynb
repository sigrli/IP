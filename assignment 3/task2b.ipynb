{
 "cells": [
  {
   "cell_type": "code",
   "execution_count": 15,
   "id": "0b6d523e",
   "metadata": {},
   "outputs": [],
   "source": [
    "import utils\n",
    "import numpy as np"
   ]
  },
  {
   "cell_type": "code",
   "execution_count": 16,
   "id": "b7024a2a",
   "metadata": {},
   "outputs": [],
   "source": [
    "def region_growing(im: np.ndarray, seed_points: list, T: int) -> np.ndarray:\n",
    "    \"\"\"\n",
    "        A region growing algorithm that segments an image into 1 or 0 (True or False).\n",
    "        Finds candidate pixels with a Moore-neighborhood (8-connectedness). \n",
    "        Uses pixel intensity thresholding with the threshold T as the homogeneity criteria.\n",
    "        The function takes in a grayscale image and outputs a boolean image\n",
    "\n",
    "        args:\n",
    "            im: np.ndarray of shape (H, W) in the range [0, 255] (dtype=np.uint8)\n",
    "            seed_points: list of list containing seed points (row, col). Ex:\n",
    "                [[row1, col1], [row2, col2], ...]\n",
    "            T: integer value defining the threshold to used for the homogeneity criteria.\n",
    "        return:\n",
    "            (np.ndarray) of shape (H, W). dtype=bool\n",
    "    \"\"\"\n",
    "    ### START YOUR CODE HERE ### (You can change anything inside this block)\n",
    "    # You can also define other helper functions\n",
    "\n",
    "    # checks if x and y is with in the image shape\n",
    "    def is_within_bounds(x, y, shape):\n",
    "        return 0 <= x < shape[0] and 0 <= y < shape[1]\n",
    "\n",
    "    # the maximum absolute difference in intensity between the seed point and the current candidate pixel\n",
    "    # return true if the pixel is homogeneous with the seed\n",
    "    def is_homogeneous(pixel_value, seed_value):\n",
    "        return abs(pixel_value - seed_value) <= T\n",
    "\n",
    "    # moore neighborhood\n",
    "    # returns a list of neighboring pixel positions\n",
    "    def get_neighbors(x, y, shape):\n",
    "        neighbors = []\n",
    "        for i in range(-1, 2):\n",
    "            for j in range(-1, 2):\n",
    "                new_x, new_y = x + i, y + j\n",
    "                if is_within_bounds(new_x, new_y, shape) and (i != 0 or j != 0):\n",
    "                    neighbors.append((new_x, new_y))\n",
    "        return neighbors\n",
    "    \n",
    "    segmented = np.zeros_like(im).astype(bool)\n",
    "    im = im.astype(float)\n",
    "    for row, col in seed_points:\n",
    "        seed_value = im[row, col]\n",
    "        stack = [(row,col)]\n",
    "\n",
    "        while stack:\n",
    "            current_pixel = stack.pop()\n",
    "            x, y = current_pixel\n",
    "\n",
    "            if not segmented[x,y] and is_homogeneous(im[x,y], seed_value):\n",
    "                segmented[x,y] = True\n",
    "                candidate_pixels = get_neighbors(x,y, im.shape)\n",
    "                stack.extend(candidate_pixels)\n",
    "    return segmented\n",
    "    ### END YOUR CODE HERE ###"
   ]
  },
  {
   "cell_type": "code",
   "execution_count": 17,
   "id": "ce93bac9",
   "metadata": {},
   "outputs": [
    {
     "name": "stdout",
     "output_type": "stream",
     "text": [
      "Reading image: images\\defective-weld.png\n",
      "Saving image to: image_processed\\defective-weld-segmented.png\n"
     ]
    },
    {
     "name": "stderr",
     "output_type": "stream",
     "text": [
      "c:\\Users\\Sigrid\\IPstarterCode\\TDT4195-StarterCode-2023\\assignment 3\\utils.py:55: UserWarning: image_processed\\defective-weld-segmented.png is a low contrast image\n",
      "  skimage.io.imsave(impath, im)\n"
     ]
    }
   ],
   "source": [
    "if __name__ == \"__main__\":\n",
    "    # DO NOT CHANGE\n",
    "    im = utils.read_image(\"defective-weld.png\")\n",
    "\n",
    "    seed_points = [ # (row, column)\n",
    "        [254, 138], # Seed point 1\n",
    "        [253, 296], # Seed point 2\n",
    "        [233, 436], # Seed point 3\n",
    "        [232, 417], # Seed point 4\n",
    "    ]\n",
    "    intensity_threshold = 50\n",
    "    segmented_image = region_growing(im, seed_points, intensity_threshold)\n",
    "\n",
    "    assert im.shape == segmented_image.shape, \"Expected image shape ({}) to be same as thresholded image shape ({})\".format(\n",
    "        im.shape, segmented_image.shape)\n",
    "    assert segmented_image.dtype == bool, \"Expected thresholded image dtype to be bool. Was: {}\".format(\n",
    "            segmented_image.dtype)\n",
    "\n",
    "    segmented_image = utils.to_uint8(segmented_image)\n",
    "    utils.save_im(\"defective-weld-segmented.png\", segmented_image)"
   ]
  }
 ],
 "metadata": {
  "kernelspec": {
   "display_name": "Python tdt4195",
   "language": "python",
   "name": "myenv"
  },
  "language_info": {
   "codemirror_mode": {
    "name": "ipython",
    "version": 3
   },
   "file_extension": ".py",
   "mimetype": "text/x-python",
   "name": "python",
   "nbconvert_exporter": "python",
   "pygments_lexer": "ipython3",
   "version": "3.6.10"
  }
 },
 "nbformat": 4,
 "nbformat_minor": 5
}
