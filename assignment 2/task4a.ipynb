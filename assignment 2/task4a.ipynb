{
 "cells": [
  {
   "cell_type": "code",
   "execution_count": 1,
   "metadata": {},
   "outputs": [],
   "source": [
    "import matplotlib.pyplot as plt\n",
    "import numpy as np\n",
    "import skimage\n",
    "import utils"
   ]
  },
  {
   "cell_type": "code",
   "execution_count": 2,
   "metadata": {},
   "outputs": [],
   "source": [
    "def convolve_im(im: np.array,\n",
    "                fft_kernel: np.array,\n",
    "                verbose=True):\n",
    "    \"\"\" Convolves the image (im) with the frequency kernel (fft_kernel),\n",
    "        and returns the resulting image.\n",
    "\n",
    "        \"verbose\" can be used for turning on/off visualization\n",
    "        convolution\n",
    "\n",
    "    Args:\n",
    "        im: np.array of shape [H, W]\n",
    "        fft_kernel: np.array of shape [H, W] \n",
    "        verbose: bool\n",
    "    Returns:\n",
    "        im: np.array of shape [H, W]\n",
    "    \"\"\"\n",
    "    ### START YOUR CODE HERE ### (You can change anything inside this block)\n",
    "    \n",
    "    # Compute the FFT of the input image\n",
    "    fft_im = np.fft.fft2(im)\n",
    "    \n",
    "    # Multiplication in the frequency domain\n",
    "    filtered_fft = fft_im * fft_kernel\n",
    "\n",
    "    # Shift the kernel to match the image FFT\n",
    "    fft_kernel = np.fft.fftshift(fft_kernel)\n",
    "    \n",
    "    # Inverse FFT to obtain the filtered spatial image\n",
    "    conv_result = np.fft.ifft2(filtered_fft).real\n",
    "    \n",
    "    if verbose:\n",
    "        # Use plt.subplot to place two or more images beside eachother\n",
    "        plt.figure(figsize=(20, 4))\n",
    "        # plt.subplot(num_rows, num_cols, position (1-indexed))\n",
    "        plt.subplot(1, 5, 1)\n",
    "        plt.imshow(im, cmap=\"gray\")\n",
    "        plt.title(\"Original Image\")\n",
    "        \n",
    "        # Visualize FFT, before amplutide of the transform\n",
    "        plt.subplot(1, 5, 2)\n",
    "        plt.imshow(np.log(1 + np.abs(fft_im)), cmap=\"gray\")\n",
    "        plt.title(\"FFT of Image\")\n",
    "        \n",
    "        # Visualize FFT kernel, the amplitude of the Fourier transform of the kernel used for convolution        \n",
    "        plt.subplot(1, 5, 3)\n",
    "        plt.imshow(np.log(1 + np.abs(fft_kernel)), cmap=\"gray\")\n",
    "        plt.title(\"FFT of Kernel\")\n",
    "        \n",
    "        # Visualize filtered FFT image, after amplitude of the transform       \n",
    "        plt.subplot(1, 5, 4)\n",
    "        plt.imshow(np.log(1 + np.abs(filtered_fft)), cmap=\"gray\")\n",
    "        plt.title(\"Filtered FFT\")\n",
    "        \n",
    "        # Visualize filtered spatial image\n",
    "        plt.subplot(1, 5, 5)\n",
    "        plt.imshow(conv_result, cmap=\"gray\")\n",
    "        plt.title(\"Filtered spatial image\")\n",
    "\n",
    "\n",
    "    ### END YOUR CODE HERE ###\n",
    "    return conv_result"
   ]
  },
  {
   "cell_type": "code",
   "execution_count": 3,
   "metadata": {},
   "outputs": [
    {
     "ename": "AttributeError",
     "evalue": "module 'skimage.draw' has no attribute 'disk'",
     "output_type": "error",
     "traceback": [
      "\u001b[1;31m---------------------------------------------------------------------------\u001b[0m",
      "\u001b[1;31mAttributeError\u001b[0m                            Traceback (most recent call last)",
      "\u001b[1;32m<ipython-input-3-ba003fc4b210>\u001b[0m in \u001b[0;36m<module>\u001b[1;34m\u001b[0m\n\u001b[0;32m      5\u001b[0m     \u001b[0mim\u001b[0m \u001b[1;33m=\u001b[0m \u001b[0mutils\u001b[0m\u001b[1;33m.\u001b[0m\u001b[0muint8_to_float\u001b[0m\u001b[1;33m(\u001b[0m\u001b[0mim\u001b[0m\u001b[1;33m)\u001b[0m\u001b[1;33m\u001b[0m\u001b[1;33m\u001b[0m\u001b[0m\n\u001b[0;32m      6\u001b[0m     \u001b[1;31m# DO NOT CHANGE\u001b[0m\u001b[1;33m\u001b[0m\u001b[1;33m\u001b[0m\u001b[1;33m\u001b[0m\u001b[0m\n\u001b[1;32m----> 7\u001b[1;33m     \u001b[0mfrequency_kernel_low_pass\u001b[0m \u001b[1;33m=\u001b[0m \u001b[0mutils\u001b[0m\u001b[1;33m.\u001b[0m\u001b[0mcreate_low_pass_frequency_kernel\u001b[0m\u001b[1;33m(\u001b[0m\u001b[0mim\u001b[0m\u001b[1;33m,\u001b[0m \u001b[0mradius\u001b[0m\u001b[1;33m=\u001b[0m\u001b[1;36m50\u001b[0m\u001b[1;33m)\u001b[0m\u001b[1;33m\u001b[0m\u001b[1;33m\u001b[0m\u001b[0m\n\u001b[0m\u001b[0;32m      8\u001b[0m     image_low_pass = convolve_im(im, frequency_kernel_low_pass,\n\u001b[0;32m      9\u001b[0m                                  verbose=verbose)\n",
      "\u001b[1;32mc:\\Users\\Sigrid\\IPstarterCode\\TDT4195-StarterCode-2023\\assignment 2\\utils.py\u001b[0m in \u001b[0;36mcreate_low_pass_frequency_kernel\u001b[1;34m(im, radius)\u001b[0m\n\u001b[0;32m    144\u001b[0m         \u001b[0mkernel\u001b[0m\u001b[1;33m:\u001b[0m \u001b[0mnp\u001b[0m\u001b[1;33m.\u001b[0m\u001b[0marray\u001b[0m \u001b[0mof\u001b[0m \u001b[0mshape\u001b[0m \u001b[1;33m[\u001b[0m\u001b[0mH\u001b[0m\u001b[1;33m,\u001b[0m \u001b[0mW\u001b[0m\u001b[1;33m]\u001b[0m\u001b[1;33m\u001b[0m\u001b[1;33m\u001b[0m\u001b[0m\n\u001b[0;32m    145\u001b[0m     \"\"\"\n\u001b[1;32m--> 146\u001b[1;33m     \u001b[0mkernel\u001b[0m \u001b[1;33m=\u001b[0m \u001b[0mcreate_high_pass_frequency_kernel\u001b[0m\u001b[1;33m(\u001b[0m\u001b[0mim\u001b[0m\u001b[1;33m,\u001b[0m \u001b[0mradius\u001b[0m\u001b[1;33m)\u001b[0m\u001b[1;33m\u001b[0m\u001b[1;33m\u001b[0m\u001b[0m\n\u001b[0m\u001b[0;32m    147\u001b[0m     \u001b[0mkernel\u001b[0m \u001b[1;33m=\u001b[0m \u001b[1;36m1\u001b[0m \u001b[1;33m-\u001b[0m \u001b[0mkernel\u001b[0m\u001b[1;33m\u001b[0m\u001b[1;33m\u001b[0m\u001b[0m\n\u001b[0;32m    148\u001b[0m     \u001b[1;32mreturn\u001b[0m \u001b[0mkernel\u001b[0m\u001b[1;33m\u001b[0m\u001b[1;33m\u001b[0m\u001b[0m\n",
      "\u001b[1;32mc:\\Users\\Sigrid\\IPstarterCode\\TDT4195-StarterCode-2023\\assignment 2\\utils.py\u001b[0m in \u001b[0;36mcreate_high_pass_frequency_kernel\u001b[1;34m(im, radius)\u001b[0m\n\u001b[0;32m    128\u001b[0m         \u001b[1;34m\"Expected a grayscale image. Got image shape: {}\"\u001b[0m\u001b[1;33m.\u001b[0m\u001b[0mformat\u001b[0m\u001b[1;33m(\u001b[0m\u001b[0mim\u001b[0m\u001b[1;33m.\u001b[0m\u001b[0mshape\u001b[0m\u001b[1;33m)\u001b[0m\u001b[1;33m\u001b[0m\u001b[1;33m\u001b[0m\u001b[0m\n\u001b[0;32m    129\u001b[0m     \u001b[0mkernel\u001b[0m \u001b[1;33m=\u001b[0m \u001b[0mnp\u001b[0m\u001b[1;33m.\u001b[0m\u001b[0mones_like\u001b[0m\u001b[1;33m(\u001b[0m\u001b[1;33m(\u001b[0m\u001b[0mim\u001b[0m\u001b[1;33m)\u001b[0m\u001b[1;33m)\u001b[0m\u001b[1;33m\u001b[0m\u001b[1;33m\u001b[0m\u001b[0m\n\u001b[1;32m--> 130\u001b[1;33m     \u001b[0mrr\u001b[0m\u001b[1;33m,\u001b[0m \u001b[0mcc\u001b[0m \u001b[1;33m=\u001b[0m \u001b[0mskimage\u001b[0m\u001b[1;33m.\u001b[0m\u001b[0mdraw\u001b[0m\u001b[1;33m.\u001b[0m\u001b[0mdisk\u001b[0m\u001b[1;33m(\u001b[0m\u001b[1;33m(\u001b[0m\u001b[0mcenter_row\u001b[0m\u001b[1;33m,\u001b[0m \u001b[0mcenter_col\u001b[0m\u001b[1;33m)\u001b[0m\u001b[1;33m,\u001b[0m \u001b[0mradius\u001b[0m\u001b[1;33m)\u001b[0m\u001b[1;33m\u001b[0m\u001b[1;33m\u001b[0m\u001b[0m\n\u001b[0m\u001b[0;32m    131\u001b[0m     \u001b[0mkernel\u001b[0m\u001b[1;33m[\u001b[0m\u001b[0mrr\u001b[0m\u001b[1;33m,\u001b[0m \u001b[0mcc\u001b[0m\u001b[1;33m]\u001b[0m \u001b[1;33m=\u001b[0m \u001b[1;36m0.0\u001b[0m\u001b[1;33m\u001b[0m\u001b[1;33m\u001b[0m\u001b[0m\n\u001b[0;32m    132\u001b[0m     \u001b[0mkernel\u001b[0m \u001b[1;33m=\u001b[0m \u001b[0mnp\u001b[0m\u001b[1;33m.\u001b[0m\u001b[0mfft\u001b[0m\u001b[1;33m.\u001b[0m\u001b[0mfftshift\u001b[0m\u001b[1;33m(\u001b[0m\u001b[0mkernel\u001b[0m\u001b[1;33m)\u001b[0m\u001b[1;33m\u001b[0m\u001b[1;33m\u001b[0m\u001b[0m\n",
      "\u001b[1;31mAttributeError\u001b[0m: module 'skimage.draw' has no attribute 'disk'"
     ]
    }
   ],
   "source": [
    "if __name__ == \"__main__\":\n",
    "    verbose = True\n",
    "    # Changing this code should not be needed\n",
    "    im = skimage.data.camera()\n",
    "    im = utils.uint8_to_float(im)\n",
    "    # DO NOT CHANGE\n",
    "    frequency_kernel_low_pass = utils.create_low_pass_frequency_kernel(im, radius=50)\n",
    "    image_low_pass = convolve_im(im, frequency_kernel_low_pass,\n",
    "                                 verbose=verbose)\n",
    "    # DO NOT CHANGE\n",
    "    frequency_kernel_high_pass = utils.create_high_pass_frequency_kernel(im, radius=50)\n",
    "    image_high_pass = convolve_im(im, frequency_kernel_high_pass,\n",
    "                                  verbose=verbose)\n",
    "\n",
    "    if verbose:\n",
    "        plt.show()\n",
    "    utils.save_im(\"camera_low_pass.png\", image_low_pass)\n",
    "    utils.save_im(\"camera_high_pass.png\", image_high_pass)"
   ]
  }
 ],
 "metadata": {
  "kernelspec": {
   "display_name": "Python tdt4195",
   "language": "python",
   "name": "myenv"
  },
  "language_info": {
   "codemirror_mode": {
    "name": "ipython",
    "version": 3
   },
   "file_extension": ".py",
   "mimetype": "text/x-python",
   "name": "python",
   "nbconvert_exporter": "python",
   "pygments_lexer": "ipython3",
   "version": "3.6.10"
  }
 },
 "nbformat": 4,
 "nbformat_minor": 4
}
